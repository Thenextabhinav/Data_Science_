{
  "nbformat": 4,
  "nbformat_minor": 0,
  "metadata": {
    "colab": {
      "provenance": []
    },
    "kernelspec": {
      "name": "python3",
      "display_name": "Python 3"
    },
    "language_info": {
      "name": "python"
    }
  },
  "cells": [
    {
      "cell_type": "code",
      "source": [
        "import pandas as pd\n",
        "from sklearn.metrics.pairwise import cosine_similarity\n",
        "from sklearn.preprocessing import MinMaxScaler\n",
        "import numpy as np\n",
        "\n",
        "\n",
        "customers = pd.read_csv('Customers.csv')\n",
        "products = pd.read_csv('Products.csv')\n",
        "transactions = pd.read_csv('Transactions.csv')\n",
        "\n",
        "\n",
        "transactions_merged = transactions.merge(products, on='ProductID', how='left')\n",
        "transactions_merged = transactions_merged.merge(customers, on='CustomerID', how='left')\n",
        "\n",
        "\n",
        "customer_profiles = transactions_merged.groupby('CustomerID').agg(\n",
        "    total_spent=('TotalValue', 'sum'),\n",
        "    total_transactions=('TransactionID', 'count'),\n",
        "    unique_products=('ProductID', pd.Series.nunique)\n",
        ").reset_index()\n",
        "\n",
        "\n",
        "scaler = MinMaxScaler()\n",
        "customer_profiles_scaled = scaler.fit_transform(customer_profiles[['total_spent', 'total_transactions', 'unique_products']])\n",
        "\n",
        "\n",
        "similarity_matrix = cosine_similarity(customer_profiles_scaled)\n",
        "\n",
        "\n",
        "customer_ids = customer_profiles['CustomerID'].tolist()\n",
        "lookalike_data = {}\n",
        "\n",
        "for idx, customer_id in enumerate(customer_ids[:20]):\n",
        "    similarities = similarity_matrix[idx]\n",
        "    top_indices = np.argsort(similarities)[::-1][1:4]\n",
        "    lookalike_data[customer_id] = [(customer_ids[i], round(similarities[i], 2)) for i in top_indices]\n",
        "\n",
        "\n",
        "lookalike_df = pd.DataFrame({\n",
        "    \"CustomerID\": lookalike_data.keys(),\n",
        "    \"Recommendations\": [str(v) for v in lookalike_data.values()]\n",
        "})\n",
        "\n",
        "lookalike_df.to_csv('Lookalike.csv', index=False)\n",
        "print(\"Lookalike recommendations saved to Lookalike.csv\")\n"
      ],
      "metadata": {
        "colab": {
          "base_uri": "https://localhost:8080/"
        },
        "id": "P7rqxsLkCUaW",
        "outputId": "39b9be7d-7e8c-4f2a-8673-5ec03f258389"
      },
      "execution_count": 12,
      "outputs": [
        {
          "output_type": "stream",
          "name": "stdout",
          "text": [
            "Lookalike recommendations saved to Lookalike.csv\n"
          ]
        }
      ]
    }
  ]
}